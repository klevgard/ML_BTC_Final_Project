{
 "cells": [
  {
   "cell_type": "code",
   "execution_count": 96,
   "metadata": {},
   "outputs": [],
   "source": [
    "import numpy as np\n",
    "import pandas as pd\n",
    "from pandas import read_excel\n",
    "#import DatetimeIndex\n",
    "import sklearn\n",
    "import random\n",
    "from pandas import datetime\n",
    "import matplotlib.pyplot as plt\n",
    "from pandas.plotting import autocorrelation_plot\n",
    "from statsmodels.tsa.stattools import adfuller, acf, pacf, grangercausalitytests\n",
    "from statsmodels.tsa.arima_model import ARIMA\n",
    "from sklearn.metrics import mean_squared_error\n",
    "from statsmodels.tsa.statespace.sarimax import SARIMAX"
   ]
  },
  {
   "cell_type": "code",
   "execution_count": 97,
   "metadata": {},
   "outputs": [],
   "source": [
    "random.seed(1001)\n",
    "dateparse = lambda x: pd.datetime.strptime(x, '%Y-%m-%d')\n",
    "training_data = pd.read_excel(\"ML_BTC_Training_DATA.xlsx\", skiprows=1, parse_dates = [1])\n",
    "training_data.columns = ['Date','Match Column','BTC Price','BTC in circulation','Market Cap',\n",
    "                        'Total Trade(USD)','Block Size(MB)','Avg Block Size(MB)','Avg # Of Transactions',\n",
    "                         'Median Confirmation Time(Min)',\n",
    "                        'Hash Rate','Difficulty','Mining Revenue($)', 'Transaction Fee(BTC)',\n",
    "                        'Transaction Fee($)','Cost % of Transaction Volume','Cost per Transaction',\n",
    "                        'Unique Addresses','Transaction per Day','Total Transaction','Transaction Rate',\n",
    "                        'Mempool Count','Mempool Growth','Mempool Size','Unspent Transaction',\n",
    "                        'Transactions Exc First 100','Transactions Exc Long Chains','Transaction Amount (BTC)',\n",
    "                        'Estimated Transaction Value','Estimated Transaction Value($)','Tether Volume',\n",
    "                        'ETH Price','ETH Volume','XRP Price','XRP Volume','LTC Price','LTC Volume',\n",
    "                        'S&P 500','XAU($)']\n",
    "\n",
    "test_data = pd.read_excel(\"ML_BTC_Test_DATA.xlsx\", skiprows=1, parse_dates = [1])\n",
    "test_data.columns = ['Date','Match Column','BTC Price','BTC in circulation','Market Cap',\n",
    "                        'Total Trade(USD)','Block Size(MB)','Avg Block Size(MB)','Avg # Of Transactions',\n",
    "                         'Median Confirmation Time(Min)',\n",
    "                        'Hash Rate','Difficulty','Mining Revenue($)', 'Transaction Fee(BTC)',\n",
    "                        'Transaction Fee($)','Cost % of Transaction Volume','Cost per Transaction',\n",
    "                        'Unique Addresses','Transaction per Day','Total Transaction','Transaction Rate',\n",
    "                        'Mempool Count','Mempool Growth','Mempool Size','Unspent Transaction',\n",
    "                        'Transactions Exc First 100','Transactions Exc Long Chains','Transaction Amount (BTC)',\n",
    "                        'Estimated Transaction Value','Estimated Transaction Value($)','Tether Volume',\n",
    "                        'ETH Price','ETH Volume','XRP Price','XRP Volume','LTC Price','LTC Volume',\n",
    "                        'S&P 500','XAU($)']"
   ]
  },
  {
   "cell_type": "code",
   "execution_count": 98,
   "metadata": {},
   "outputs": [],
   "source": [
    "data = pd.read_excel(\"ML_BTC_DATA.xlsx\", skiprows=1, parse_dates = [1])\n",
    "data.columns = ['Date','Match Column','BTC Price','BTC in circulation','Market Cap',\n",
    "                        'Total Trade(USD)','Block Size(MB)','Avg Block Size(MB)','Avg # Of Transactions',\n",
    "                         'Median Confirmation Time(Min)',\n",
    "                        'Hash Rate','Difficulty','Mining Revenue($)', 'Transaction Fee(BTC)',\n",
    "                        'Transaction Fee($)','Cost % of Transaction Volume','Cost per Transaction',\n",
    "                        'Unique Addresses','Transaction per Day','Total Transaction','Transaction Rate',\n",
    "                        'Mempool Count','Mempool Growth','Mempool Size','Unspent Transaction',\n",
    "                        'Transactions Exc First 100','Transactions Exc Long Chains','Transaction Amount (BTC)',\n",
    "                        'Estimated Transaction Value','Estimated Transaction Value($)','Tether Volume',\n",
    "                        'ETH Price','ETH Volume','XRP Price','XRP Volume','LTC Price','LTC Volume',\n",
    "                        'S&P 500','XAU($)']"
   ]
  },
  {
   "cell_type": "code",
   "execution_count": 99,
   "metadata": {},
   "outputs": [],
   "source": [
    "price_btc = training_data['BTC Price']\n",
    "price_btc_test = test_data['BTC Price']"
   ]
  },
  {
   "cell_type": "code",
   "execution_count": 100,
   "metadata": {},
   "outputs": [],
   "source": [
    "series_list = ['BTC in circulation','Market Cap',\n",
    "                        'Total Trade(USD)','Block Size(MB)','Avg Block Size(MB)','Avg # Of Transactions',\n",
    "                         'Median Confirmation Time(Min)',\n",
    "                        'Hash Rate','Difficulty','Mining Revenue($)', 'Transaction Fee(BTC)',\n",
    "                        'Transaction Fee($)','Cost % of Transaction Volume','Cost per Transaction',\n",
    "                        'Unique Addresses','Transaction per Day','Total Transaction','Transaction Rate',\n",
    "                        'Mempool Count','Mempool Growth','Mempool Size','Unspent Transaction',\n",
    "                        'Transactions Exc First 100','Transactions Exc Long Chains','Transaction Amount (BTC)',\n",
    "                        'Estimated Transaction Value','Estimated Transaction Value($)','Tether Volume',\n",
    "                        'ETH Price','ETH Volume','XRP Price','XRP Volume','LTC Price','LTC Volume',\n",
    "                        'S&P 500','XAU($)']\n",
    "diff_amt = list()\n",
    "i = 0\n",
    "for s in series_list:\n",
    "    a = 0\n",
    "    i = 0\n",
    "    td = training_data[s]\n",
    "    td.dropna(inplace = True)\n",
    "    X = td.values\n",
    "    while (i == 0):\n",
    "        td.dropna(inplace = True)\n",
    "        X = td\n",
    "        result = adfuller(X)\n",
    "        if (result[0] < result[4].get(\"1%\")):\n",
    "            diff_amt.append(a)\n",
    "            i=1\n",
    "        else:\n",
    "            a=a+1\n",
    "            training_data[s] = training_data[s].diff()\n",
    "            td = training_data[s]\n",
    "            X = td.values"
   ]
  },
  {
   "cell_type": "code",
   "execution_count": 101,
   "metadata": {},
   "outputs": [],
   "source": [
    "training_data['lag_CostPerTran'] = training_data['Cost per Transaction'].shift()\n",
    "training_data['lag_XRPPrice'] = training_data['XRP Price'].shift()\n",
    "training_data['lag_XRPVol'] = training_data['XRP Volume'].shift()"
   ]
  },
  {
   "cell_type": "code",
   "execution_count": 102,
   "metadata": {},
   "outputs": [
    {
     "name": "stdout",
     "output_type": "stream",
     "text": [
      "Optimization terminated successfully.\n",
      "         Current function value: 7.318446\n",
      "         Iterations: 154\n",
      "         Function evaluations: 266\n",
      "                           Statespace Model Results                           \n",
      "==============================================================================\n",
      "Dep. Variable:              BTC Price   No. Observations:                  728\n",
      "Model:               SARIMAX(1, 1, 1)   Log Likelihood               -5327.829\n",
      "Date:                Sun, 01 Dec 2019   AIC                          10663.658\n",
      "Time:                        16:54:58   BIC                          10682.013\n",
      "Sample:                             0   HQIC                         10670.741\n",
      "                                - 728                                         \n",
      "Covariance Type:                  opg                                         \n",
      "===================================================================================\n",
      "                      coef    std err          z      P>|z|      [0.025      0.975]\n",
      "-----------------------------------------------------------------------------------\n",
      "lag_CostPerTran     1.1132      0.812      1.371      0.170      -0.478       2.705\n",
      "ar.L1              -0.6638      0.095     -6.999      0.000      -0.850      -0.478\n",
      "ma.L1               0.7386      0.086      8.539      0.000       0.569       0.908\n",
      "sigma2           1.358e+05   2662.050     51.023      0.000    1.31e+05    1.41e+05\n",
      "===================================================================================\n",
      "Ljung-Box (Q):                      222.72   Jarque-Bera (JB):              7367.52\n",
      "Prob(Q):                              0.00   Prob(JB):                         0.00\n",
      "Heteroskedasticity (H):              25.23   Skew:                             0.05\n",
      "Prob(H) (two-sided):                  0.00   Kurtosis:                        18.60\n",
      "===================================================================================\n",
      "\n",
      "Warnings:\n",
      "[1] Covariance matrix calculated using the outer product of gradients (complex-step).\n"
     ]
    }
   ],
   "source": [
    "modelC = SARIMAX(endog=training_data['BTC Price'][2:], exog=training_data[['lag_CostPerTran']][2:], order=[1,1,1])\n",
    "resultsC = modelC.fit(maxiter=200, method='nm')\n",
    "print(resultsC.summary())"
   ]
  },
  {
   "cell_type": "code",
   "execution_count": 103,
   "metadata": {},
   "outputs": [
    {
     "name": "stdout",
     "output_type": "stream",
     "text": [
      "Optimization terminated successfully.\n",
      "         Current function value: 7.314113\n",
      "         Iterations: 175\n",
      "         Function evaluations: 297\n",
      "                           Statespace Model Results                           \n",
      "==============================================================================\n",
      "Dep. Variable:              BTC Price   No. Observations:                  728\n",
      "Model:               SARIMAX(1, 1, 1)   Log Likelihood               -5324.674\n",
      "Date:                Sun, 01 Dec 2019   AIC                          10657.348\n",
      "Time:                        16:55:01   BIC                          10675.704\n",
      "Sample:                             0   HQIC                         10664.431\n",
      "                                - 728                                         \n",
      "Covariance Type:                  opg                                         \n",
      "================================================================================\n",
      "                   coef    std err          z      P>|z|      [0.025      0.975]\n",
      "--------------------------------------------------------------------------------\n",
      "lag_XRPPrice   383.5769     53.783      7.132      0.000     278.164     488.989\n",
      "ar.L1           -0.6471      0.068     -9.501      0.000      -0.781      -0.514\n",
      "ma.L1            0.7500      0.060     12.558      0.000       0.633       0.867\n",
      "sigma2        1.346e+05   2465.960     54.602      0.000     1.3e+05    1.39e+05\n",
      "===================================================================================\n",
      "Ljung-Box (Q):                      215.54   Jarque-Bera (JB):              7544.38\n",
      "Prob(Q):                              0.00   Prob(JB):                         0.00\n",
      "Heteroskedasticity (H):              25.15   Skew:                            -0.11\n",
      "Prob(H) (two-sided):                  0.00   Kurtosis:                        18.78\n",
      "===================================================================================\n",
      "\n",
      "Warnings:\n",
      "[1] Covariance matrix calculated using the outer product of gradients (complex-step).\n"
     ]
    }
   ],
   "source": [
    "modelXP = SARIMAX(endog=training_data['BTC Price'][2:], exog=training_data[['lag_XRPPrice']][2:], order=[1,1,1])\n",
    "resultsXP = modelXP.fit(maxiter=200, method='nm')\n",
    "print(resultsXP.summary())"
   ]
  },
  {
   "cell_type": "code",
   "execution_count": 104,
   "metadata": {},
   "outputs": [
    {
     "name": "stdout",
     "output_type": "stream",
     "text": [
      "Optimization terminated successfully.\n",
      "         Current function value: 7.291622\n",
      "         Iterations: 139\n",
      "         Function evaluations: 241\n",
      "                           Statespace Model Results                           \n",
      "==============================================================================\n",
      "Dep. Variable:              BTC Price   No. Observations:                  728\n",
      "Model:               SARIMAX(1, 1, 1)   Log Likelihood               -5308.301\n",
      "Date:                Sun, 01 Dec 2019   AIC                          10624.601\n",
      "Time:                        16:55:08   BIC                          10642.957\n",
      "Sample:                             0   HQIC                         10631.685\n",
      "                                - 728                                         \n",
      "Covariance Type:                  opg                                         \n",
      "==============================================================================\n",
      "                 coef    std err          z      P>|z|      [0.025      0.975]\n",
      "------------------------------------------------------------------------------\n",
      "lag_XRPVol -1.023e-07   8.16e-09    -12.531      0.000   -1.18e-07   -8.63e-08\n",
      "ar.L1         -0.5601      0.096     -5.842      0.000      -0.748      -0.372\n",
      "ma.L1          0.6551      0.089      7.325      0.000       0.480       0.830\n",
      "sigma2      1.287e+05   2.14e-07   6.01e+11      0.000    1.29e+05    1.29e+05\n",
      "===================================================================================\n",
      "Ljung-Box (Q):                      194.18   Jarque-Bera (JB):              8432.47\n",
      "Prob(Q):                              0.00   Prob(JB):                         0.00\n",
      "Heteroskedasticity (H):              23.76   Skew:                            -0.02\n",
      "Prob(H) (two-sided):                  0.00   Kurtosis:                        19.68\n",
      "===================================================================================\n",
      "\n",
      "Warnings:\n",
      "[1] Covariance matrix calculated using the outer product of gradients (complex-step).\n",
      "[2] Covariance matrix is singular or near-singular, with condition number 1.24e+28. Standard errors may be unstable.\n"
     ]
    }
   ],
   "source": [
    "modelXV = SARIMAX(endog=training_data['BTC Price'][2:], exog=training_data[['lag_XRPVol']][2:], order=[1,1,1])\n",
    "resultsXV = modelXV.fit(maxiter=200, method='nm')\n",
    "print(resultsXV.summary())"
   ]
  },
  {
   "cell_type": "code",
   "execution_count": 105,
   "metadata": {},
   "outputs": [],
   "source": [
    "#Create differenced full dataset for Total Trade(USD)\n",
    "data['Cost per Transaction'] = data['Cost per Transaction'].diff()\n",
    "data['lag_CostPerTran'] = data['Cost per Transaction'].shift()\n",
    "\n",
    "data['XRP Price'] = data['XRP Price'].diff()\n",
    "data['lag_XRPPrice'] = data['XRP Price'].shift()\n",
    "\n",
    "data['XRP Volume'] = data['XRP Volume'].diff()\n",
    "data['lag_XRPVol'] = data['XRP Volume'].shift()"
   ]
  },
  {
   "cell_type": "code",
   "execution_count": 110,
   "metadata": {},
   "outputs": [
    {
     "name": "stdout",
     "output_type": "stream",
     "text": [
      "Optimization terminated successfully.\n",
      "         Current function value: 7.219873\n",
      "         Iterations: 137\n",
      "         Function evaluations: 230\n",
      "Average Error:\n",
      "243.74524798816284\n",
      "Test MSE: 60834.406\n"
     ]
    },
    {
     "data": {
      "image/png": "[encoded data removed]",
      "text/plain": [
       "<Figure size 432x288 with 1 Axes>"
      ]
     },
     "metadata": {},
     "output_type": "display_data"
    }
   ],
   "source": [
    "#Creating Predictions using ARIMA Forecasting\n",
    "history = [x for x in price_btc]\n",
    "predictions = list()\n",
    "error_list = list()\n",
    "endog = data['BTC Price'][2:]\n",
    "exog = data[['lag_CostPerTran']][2:]\n",
    "modelC = SARIMAX(endog=endog, exog=exog, order=[1,1,1])\n",
    "model_fit = modelC.fit(maxiter=200, method='nm')\n",
    "output = model_fit.predict(start=731)\n",
    "\n",
    "error_list = list()\n",
    "for i in range(len(output)):\n",
    "    error_list.append(abs(output.get(733+i) - price_btc_test[i]))\n",
    "#average error\n",
    "print(\"Average Error:\")\n",
    "print(sum(error_list)/len(error_list))\n",
    "error = mean_squared_error(data['BTC Price'][733:], output)\n",
    "print('Test MSE: %.3f' % error)\n",
    "plt.plot(data['BTC Price'])\n",
    "plt.plot(output, color='red')\n",
    "plt.show()"
   ]
  },
  {
   "cell_type": "code",
   "execution_count": 111,
   "metadata": {},
   "outputs": [
    {
     "name": "stdout",
     "output_type": "stream",
     "text": [
      "Optimization terminated successfully.\n",
      "         Current function value: 7.216172\n",
      "         Iterations: 147\n",
      "         Function evaluations: 257\n",
      "Average Error:\n",
      "245.3337044257866\n",
      "Test MSE: 60846.867\n"
     ]
    },
    {
     "data": {
      "image/png": "[encoded data removed]",
      "text/plain": [
       "<Figure size 432x288 with 1 Axes>"
      ]
     },
     "metadata": {},
     "output_type": "display_data"
    }
   ],
   "source": [
    "#Creating Predictions using ARIMA Forecasting\n",
    "history = [x for x in price_btc]\n",
    "predictions = list()\n",
    "error_list = list()\n",
    "endog = data['BTC Price'][2:]\n",
    "exog = data[['lag_XRPPrice']][2:]\n",
    "modelXP = SARIMAX(endog=endog, exog=exog, order=[1,1,1])\n",
    "model_fit = modelXP.fit(maxiter=200, method='nm')\n",
    "output = model_fit.predict(start=731)\n",
    "\n",
    "error_list = list()\n",
    "for i in range(len(output)):\n",
    "    error_list.append(abs(output.get(733+i) - price_btc_test[i]))\n",
    "#average error\n",
    "print(\"Average Error:\")\n",
    "print(sum(error_list)/len(error_list))\n",
    "error = mean_squared_error(data['BTC Price'][733:], output)\n",
    "print('Test MSE: %.3f' % error)\n",
    "plt.plot(data['BTC Price'])\n",
    "plt.plot(output, color='red')\n",
    "plt.show()"
   ]
  },
  {
   "cell_type": "code",
   "execution_count": 112,
   "metadata": {},
   "outputs": [
    {
     "name": "stdout",
     "output_type": "stream",
     "text": [
      "Optimization terminated successfully.\n",
      "         Current function value: 7.200168\n",
      "         Iterations: 113\n",
      "         Function evaluations: 203\n",
      "Average Error:\n",
      "248.0160266652389\n",
      "Test MSE: 61540.787\n"
     ]
    },
    {
     "data": {
      "image/png": "[encoded data removed]",
      "text/plain": [
       "<Figure size 432x288 with 1 Axes>"
      ]
     },
     "metadata": {},
     "output_type": "display_data"
    }
   ],
   "source": [
    "#Creating Predictions using ARIMA Forecasting\n",
    "history = [x for x in price_btc]\n",
    "predictions = list()\n",
    "error_list = list()\n",
    "endog = data['BTC Price'][2:]\n",
    "exog = data[['lag_XRPVol']][2:]\n",
    "modelXV = SARIMAX(endog=endog, exog=exog, order=[1,1,1])\n",
    "model_fit = modelXV.fit(maxiter=200, method='nm')\n",
    "output = model_fit.predict(start=731)\n",
    "\n",
    "error_list = list()\n",
    "for i in range(len(output)):\n",
    "    error_list.append(abs(output.get(733+i) - price_btc_test[i]))\n",
    "#average error\n",
    "print(\"Average Error:\")\n",
    "print(sum(error_list)/len(error_list))\n",
    "error = mean_squared_error(data['BTC Price'][733:], output)\n",
    "print('Test MSE: %.3f' % error)\n",
    "plt.plot(data['BTC Price'])\n",
    "plt.plot(output, color='red')\n",
    "plt.show()"
   ]
  },
  {
   "cell_type": "code",
   "execution_count": null,
   "metadata": {},
   "outputs": [],
   "source": []
  }
 ],
 "metadata": {
  "kernelspec": {
   "display_name": "Python 3",
   "language": "python",
   "name": "python3"
  },
  "language_info": {
   "codemirror_mode": {
    "name": "ipython",
    "version": 3
   },
   "file_extension": ".py",
   "mimetype": "text/x-python",
   "name": "python",
   "nbconvert_exporter": "python",
   "pygments_lexer": "ipython3",
   "version": "3.6.5"
  }
 },
 "nbformat": 4,
 "nbformat_minor": 2
}
